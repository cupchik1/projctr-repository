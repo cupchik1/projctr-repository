{
 "cells": [
  {
   "cell_type": "markdown",
   "metadata": {},
   "source": [
    "You have 100 cats.\n",
    "\n",
    "One day you decide to arrange all your cats in a giant circle. Initially, none of your cats have any hats on. You walk around the circle 100 times, always starting at the same spot, with the first cat (cat # 1). Every time you stop at a cat, you either put a hat on it if it doesn’t have one on, or you take its hat off if it has one on.\n",
    "\n",
    "In The first round, you stop at every cat, placing a hat on each one.\n",
    "In The second round, you only stop at every second cat (#2, #4, #6, #8, etc.).\n",
    "In The third round, you only stop at every third cat(#3, #6, #9, #12, etc.).\n",
    "You continue this process until you’ve made 100 rounds around the cats (e.g., you only visit the 100th cat).\n",
    "\n",
    "\n",
    "Write a program that simply outputs which cats have hats at the end.\n",
    "\n",
    "Optional: Make a function that can calculate hats with any amount of rounds and cats.\n",
    "\n",
    "Here you should write an algorithm, and after that, try to make pseudo code. Only after that start to work. The code is simple here, but you might struggle with the algorithm. Therefore don`t try to write a code from the first attempt. Don't forget to calculate the complexity of your algorithm.\n",
    "\n",
    "Homework should be uploaded at GitHub.comThe result of this HW should be a link to your GitHub codeTo learn how to work in Git, read the first three chapters of this book"
   ]
  },
  {
   "cell_type": "code",
   "execution_count": null,
   "metadata": {},
   "outputs": [],
   "source": []
  }
 ],
 "metadata": {
  "language_info": {
   "name": "python"
  },
  "orig_nbformat": 4
 },
 "nbformat": 4,
 "nbformat_minor": 2
}
